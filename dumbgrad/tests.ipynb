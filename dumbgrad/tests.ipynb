{
 "cells": [
  {
   "cell_type": "code",
   "execution_count": 1,
   "metadata": {},
   "outputs": [],
   "source": [
    "%load_ext autoreload\n",
    "%autoreload 2\n",
    "%reload_ext autoreload"
   ]
  },
  {
   "cell_type": "code",
   "execution_count": 2,
   "metadata": {},
   "outputs": [
    {
     "ename": "NameError",
     "evalue": "name 'Value' is not defined",
     "output_type": "error",
     "traceback": [
      "\u001b[31m---------------------------------------------------------------------------\u001b[39m",
      "\u001b[31mNameError\u001b[39m                                 Traceback (most recent call last)",
      "\u001b[36mCell\u001b[39m\u001b[36m \u001b[39m\u001b[32mIn[2]\u001b[39m\u001b[32m, line 1\u001b[39m\n\u001b[32m----> \u001b[39m\u001b[32m1\u001b[39m a = Value(\u001b[32m3\u001b[39m); a.label = \u001b[33m'\u001b[39m\u001b[33ma\u001b[39m\u001b[33m'\u001b[39m\n\u001b[32m      2\u001b[39m b = Value(\u001b[32m4\u001b[39m); b.label = \u001b[33m'\u001b[39m\u001b[33mb\u001b[39m\u001b[33m'\u001b[39m\n\u001b[32m      3\u001b[39m c = a - b; c.label = \u001b[33m'\u001b[39m\u001b[33mc\u001b[39m\u001b[33m'\u001b[39m\n",
      "\u001b[31mNameError\u001b[39m: name 'Value' is not defined"
     ]
    }
   ],
   "source": [
    "\n",
    "\n",
    "a = Value(3); a.label = 'a'\n",
    "b = Value(4); b.label = 'b'\n",
    "c = a - b; c.label = 'c'\n",
    "d = a + b; d.label = 'd'\n",
    "e = a ** b; e.label = 'e'\n",
    "c.grad = 1\n",
    "c.backprop()\n",
    "print(a)\n",
    "print(b)\n",
    "print(c)\n",
    "print(d)\n",
    "print(e)\n",
    "draw_dot(c)\n"
   ]
  },
  {
   "cell_type": "code",
   "execution_count": 1,
   "metadata": {},
   "outputs": [
    {
     "name": "stdout",
     "output_type": "stream",
     "text": [
      "data = 4.135234843445913, gradient = 1, op = +\n",
      "data = 3.670231985795996, gradient = 1, op = +\n",
      "data = 2.8638966788119062, gradient = 1, op = +\n",
      "data = 2.0228679182151192, gradient = 1, op = +\n",
      "data = 1.4911329712199355, gradient = 1, op = +\n",
      "data = 1.3623202921556734, gradient = 1, op = +\n",
      "data = 1.4584822047972805, gradient = 1, op = +\n",
      "data = 1.5937023189425132, gradient = 1, op = +\n",
      "data = 1.7006820970734011, gradient = 1, op = +\n",
      "data = 1.7741318631429066, gradient = 1, op = +\n",
      "data = 1.822676367641309, gradient = 1, op = +\n",
      "data = 1.8545076278451074, gradient = 1, op = +\n",
      "data = 1.8752620900995027, gradient = 1, op = +\n",
      "data = 1.88851804041123, gradient = 1, op = +\n",
      "data = 1.896507734198495, gradient = 1, op = +\n",
      "data = 1.9006316028920796, gradient = 1, op = +\n",
      "data = 1.9017778104130032, gradient = 1, op = +\n",
      "data = 1.900506315543737, gradient = 1, op = +\n",
      "data = 1.89714705626555, gradient = 1, op = +\n",
      "data = 1.8918465971832705, gradient = 1, op = +\n"
     ]
    }
   ],
   "source": [
    "\n",
    "from graph import draw_dot\n",
    "from engine import Value\n",
    "from nn import Network\n",
    "\n",
    "n = Network(2, [2, 1])\n",
    "\n",
    "x = [\n",
    "\t[0, 0],\n",
    "\t[1, 0],\n",
    "\t[0, 1],\n",
    "\t[1, 1],\n",
    "]\n",
    "\n",
    "y = [0, 1, 1, 0]\n",
    "n.train(x, y)\n",
    "#draw_dot(loss)"
   ]
  }
 ],
 "metadata": {
  "kernelspec": {
   "display_name": ".venv",
   "language": "python",
   "name": "python3"
  },
  "language_info": {
   "codemirror_mode": {
    "name": "ipython",
    "version": 3
   },
   "file_extension": ".py",
   "mimetype": "text/x-python",
   "name": "python",
   "nbconvert_exporter": "python",
   "pygments_lexer": "ipython3",
   "version": "3.11.11"
  }
 },
 "nbformat": 4,
 "nbformat_minor": 2
}
