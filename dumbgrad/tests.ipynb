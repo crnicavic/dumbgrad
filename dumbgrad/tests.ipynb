{
 "cells": [
  {
   "cell_type": "code",
   "execution_count": null,
   "metadata": {},
   "outputs": [],
   "source": [
    "from graph import draw_dot\n",
    "from engine import Value\n",
    "from nn import Network\n",
    "\n",
    "a = Value(3); a.label = 'a'\n",
    "b = Value(4); b.label = 'b'\n",
    "c = a - b; c.label = 'c'\n",
    "d = a + b; d.label = 'd'\n",
    "e = a ** b; e.label = 'e'\n",
    "c.grad = 1\n",
    "c.backprop()\n",
    "print(a)\n",
    "print(b)\n",
    "print(c)\n",
    "print(d)\n",
    "print(e)\n",
    "draw_dot(c)\n"
   ]
  },
  {
   "cell_type": "code",
   "execution_count": null,
   "metadata": {},
   "outputs": [],
   "source": [
    "\n",
    "from graph import draw_dot\n",
    "from engine import Value\n",
    "from nn import Network\n",
    "\n",
    "n = Network(2, [5, 2])\n",
    "\n",
    "x = [\n",
    "\t[0, 0],\n",
    "\t[1, 0],\n",
    "\t[0, 1],\n",
    "\t[1, 1],\n",
    "]\n",
    "\n",
    "y = [\n",
    "\t[1, 0],\n",
    "\t[0, 1],\n",
    "\t[0, 1],\n",
    "\t[1, 0]\n",
    "]\n",
    "n.train(x, y)\n",
    "#draw_dot(loss)\n",
    "y_pred = [n(i) for i in x]\n",
    "y_pred\n"
   ]
  },
  {
   "cell_type": "code",
   "execution_count": 20,
   "metadata": {},
   "outputs": [
    {
     "name": "stdout",
     "output_type": "stream",
     "text": [
      "data = 11197.463288448289, gradient = 1, op = +\n"
     ]
    },
    {
     "ename": "KeyboardInterrupt",
     "evalue": "",
     "output_type": "error",
     "traceback": [
      "\u001b[31m---------------------------------------------------------------------------\u001b[39m",
      "\u001b[31mKeyboardInterrupt\u001b[39m                         Traceback (most recent call last)",
      "\u001b[36mCell\u001b[39m\u001b[36m \u001b[39m\u001b[32mIn[20]\u001b[39m\u001b[32m, line 16\u001b[39m\n\u001b[32m     13\u001b[39m x_train, x_test, y_train, y_test = train_test_split(x, y, test_size=\u001b[32m0.2\u001b[39m, shuffle=\u001b[38;5;28;01mFalse\u001b[39;00m) \n\u001b[32m     15\u001b[39m n = Network(\u001b[38;5;28mlen\u001b[39m(x[\u001b[32m0\u001b[39m]), [\u001b[32m50\u001b[39m, \u001b[32m40\u001b[39m, num_classes])\n\u001b[32m---> \u001b[39m\u001b[32m16\u001b[39m \u001b[43mn\u001b[49m\u001b[43m.\u001b[49m\u001b[43mtrain\u001b[49m\u001b[43m(\u001b[49m\u001b[43mx_train\u001b[49m\u001b[43m,\u001b[49m\u001b[43m \u001b[49m\u001b[43my_train\u001b[49m\u001b[43m)\u001b[49m\n",
      "\u001b[36mFile \u001b[39m\u001b[32m~/repos/nn.rb/dumbgrad/nn.py:78\u001b[39m, in \u001b[36mNetwork.train\u001b[39m\u001b[34m(self, inputs, outputs)\u001b[39m\n\u001b[32m     75\u001b[39m loss = \u001b[38;5;28msum\u001b[39m([\u001b[38;5;28msum\u001b[39m(np.power(d, \u001b[32m2\u001b[39m).tolist()) \u001b[38;5;28;01mfor\u001b[39;00m d \u001b[38;5;129;01min\u001b[39;00m diff])\n\u001b[32m     77\u001b[39m loss.grad = \u001b[32m1\u001b[39m\n\u001b[32m---> \u001b[39m\u001b[32m78\u001b[39m \u001b[43mloss\u001b[49m\u001b[43m.\u001b[49m\u001b[43mbackprop\u001b[49m\u001b[43m(\u001b[49m\u001b[43m)\u001b[49m\n\u001b[32m     79\u001b[39m \u001b[38;5;28;01mfor\u001b[39;00m p \u001b[38;5;129;01min\u001b[39;00m \u001b[38;5;28mself\u001b[39m.parameters():\n\u001b[32m     80\u001b[39m \tp.data -= \u001b[32m0.05\u001b[39m * p.grad\n",
      "\u001b[36mFile \u001b[39m\u001b[32m~/repos/nn.rb/dumbgrad/engine.py:65\u001b[39m, in \u001b[36mValue.backprop\u001b[39m\u001b[34m(self)\u001b[39m\n\u001b[32m     62\u001b[39m \t\u001b[38;5;28mself\u001b[39m.children[\u001b[32m0\u001b[39m].grad += \u001b[38;5;28mself\u001b[39m.children[\u001b[32m1\u001b[39m].data * (\u001b[38;5;28mself\u001b[39m.children[\u001b[32m0\u001b[39m].data ** (\u001b[38;5;28mself\u001b[39m.children[\u001b[32m1\u001b[39m].data -\u001b[32m1\u001b[39m)) * \u001b[38;5;28mself\u001b[39m.grad\n\u001b[32m     64\u001b[39m \u001b[38;5;28;01mfor\u001b[39;00m child \u001b[38;5;129;01min\u001b[39;00m \u001b[38;5;28mself\u001b[39m.children:\n\u001b[32m---> \u001b[39m\u001b[32m65\u001b[39m \t\u001b[43mchild\u001b[49m\u001b[43m.\u001b[49m\u001b[43mbackprop\u001b[49m\u001b[43m(\u001b[49m\u001b[43m)\u001b[49m\n",
      "\u001b[36mFile \u001b[39m\u001b[32m~/repos/nn.rb/dumbgrad/engine.py:65\u001b[39m, in \u001b[36mValue.backprop\u001b[39m\u001b[34m(self)\u001b[39m\n\u001b[32m     62\u001b[39m \t\u001b[38;5;28mself\u001b[39m.children[\u001b[32m0\u001b[39m].grad += \u001b[38;5;28mself\u001b[39m.children[\u001b[32m1\u001b[39m].data * (\u001b[38;5;28mself\u001b[39m.children[\u001b[32m0\u001b[39m].data ** (\u001b[38;5;28mself\u001b[39m.children[\u001b[32m1\u001b[39m].data -\u001b[32m1\u001b[39m)) * \u001b[38;5;28mself\u001b[39m.grad\n\u001b[32m     64\u001b[39m \u001b[38;5;28;01mfor\u001b[39;00m child \u001b[38;5;129;01min\u001b[39;00m \u001b[38;5;28mself\u001b[39m.children:\n\u001b[32m---> \u001b[39m\u001b[32m65\u001b[39m \t\u001b[43mchild\u001b[49m\u001b[43m.\u001b[49m\u001b[43mbackprop\u001b[49m\u001b[43m(\u001b[49m\u001b[43m)\u001b[49m\n",
      "    \u001b[31m[... skipping similar frames: Value.backprop at line 65 (1419 times)]\u001b[39m\n",
      "\u001b[36mFile \u001b[39m\u001b[32m~/repos/nn.rb/dumbgrad/engine.py:65\u001b[39m, in \u001b[36mValue.backprop\u001b[39m\u001b[34m(self)\u001b[39m\n\u001b[32m     62\u001b[39m \t\u001b[38;5;28mself\u001b[39m.children[\u001b[32m0\u001b[39m].grad += \u001b[38;5;28mself\u001b[39m.children[\u001b[32m1\u001b[39m].data * (\u001b[38;5;28mself\u001b[39m.children[\u001b[32m0\u001b[39m].data ** (\u001b[38;5;28mself\u001b[39m.children[\u001b[32m1\u001b[39m].data -\u001b[32m1\u001b[39m)) * \u001b[38;5;28mself\u001b[39m.grad\n\u001b[32m     64\u001b[39m \u001b[38;5;28;01mfor\u001b[39;00m child \u001b[38;5;129;01min\u001b[39;00m \u001b[38;5;28mself\u001b[39m.children:\n\u001b[32m---> \u001b[39m\u001b[32m65\u001b[39m \t\u001b[43mchild\u001b[49m\u001b[43m.\u001b[49m\u001b[43mbackprop\u001b[49m\u001b[43m(\u001b[49m\u001b[43m)\u001b[49m\n",
      "\u001b[36mFile \u001b[39m\u001b[32m~/repos/nn.rb/dumbgrad/engine.py:48\u001b[39m, in \u001b[36mValue.backprop\u001b[39m\u001b[34m(self)\u001b[39m\n\u001b[32m     45\u001b[39m \t\u001b[38;5;28;01mreturn\u001b[39;00m out\n\u001b[32m     47\u001b[39m \u001b[38;5;66;03m# set the gradient of children\u001b[39;00m\n\u001b[32m---> \u001b[39m\u001b[32m48\u001b[39m \u001b[38;5;28;01mdef\u001b[39;00m\u001b[38;5;250m \u001b[39m\u001b[34mbackprop\u001b[39m(\u001b[38;5;28mself\u001b[39m):\n\u001b[32m     49\u001b[39m \t\u001b[38;5;28;01mif\u001b[39;00m \u001b[38;5;28mself\u001b[39m.op == \u001b[33m'\u001b[39m\u001b[33m+\u001b[39m\u001b[33m'\u001b[39m:\n\u001b[32m     50\u001b[39m \t\t\u001b[38;5;28;01mfor\u001b[39;00m child \u001b[38;5;129;01min\u001b[39;00m \u001b[38;5;28mself\u001b[39m.children:\n",
      "\u001b[31mKeyboardInterrupt\u001b[39m: "
     ]
    }
   ],
   "source": [
    "from graph import draw_dot\n",
    "from engine import Value\n",
    "from nn import Network\n",
    "import numpy as np\n",
    "from keras.utils import to_categorical\n",
    "from sklearn.model_selection import train_test_split\n",
    "from sklearn.datasets import load_digits\n",
    "\n",
    "x, y = load_digits(return_X_y=True)\n",
    "x = x / 16\t\t#normalize\n",
    "num_classes = len(np.unique(y))\n",
    "y = to_categorical(y, num_classes=num_classes)\n",
    "x_train, x_test, y_train, y_test = train_test_split(x, y, test_size=0.2, shuffle=False) \n",
    "\n",
    "n = Network(len(x[0]), [10, 20, num_classes])\n",
    "n.train(x_train, y_train)"
   ]
  }
 ],
 "metadata": {
  "kernelspec": {
   "display_name": ".venv",
   "language": "python",
   "name": "python3"
  },
  "language_info": {
   "codemirror_mode": {
    "name": "ipython",
    "version": 3
   },
   "file_extension": ".py",
   "mimetype": "text/x-python",
   "name": "python",
   "nbconvert_exporter": "python",
   "pygments_lexer": "ipython3",
   "version": "3.11.11"
  }
 },
 "nbformat": 4,
 "nbformat_minor": 2
}
